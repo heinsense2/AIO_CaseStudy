{
  "nbformat": 4,
  "nbformat_minor": 0,
  "metadata": {
    "colab": {
      "provenance": [],
      "collapsed_sections": [],
      "include_colab_link": true
    },
    "kernelspec": {
      "name": "python3",
      "display_name": "Python 3"
    },
    "language_info": {
      "name": "python"
    }
  },
  "cells": [
    {
      "cell_type": "markdown",
      "metadata": {
        "id": "view-in-github",
        "colab_type": "text"
      },
      "source": [
        "<a href=\"https://colab.research.google.com/github/heinsense2/AIO_CaseStudy/blob/main/notebooks/fathomnet_background_imgs.ipynb\" target=\"_parent\"><img src=\"https://colab.research.google.com/assets/colab-badge.svg\" alt=\"Open In Colab\"/></a>"
      ]
    },
    {
      "cell_type": "markdown",
      "source": [
        "# Download background images from the FathomNet.\n",
        "\n",
        "This notebook finds and downloads images from FathomNet to be used as background images during training.\n",
        "\n",
        "Requirements: python 3.7 or greater and fathomnet.py\n",
        "\n",
        "This notebook is in no way exhaustive and is not to be used as is. It shows how background images are found and downloaded. Changes are required depending on your particular data setup.\n",
        "\n"
      ],
      "metadata": {
        "id": "K-wryFd7o0_v"
      }
    },
    {
      "cell_type": "code",
      "execution_count": null,
      "metadata": {
        "id": "2qamzW00lFNL"
      },
      "outputs": [],
      "source": [
        "# Assuming the data is available on Google drive\n",
        "from google.colab import drive\n",
        "drive.mount('/content/drive/MyDrive')"
      ]
    },
    {
      "cell_type": "code",
      "source": [
        "# Change the location of this script depending on how your paths are set up\n",
        "from fathomnet.api import xapikey,boundingboxes,images,taxa,geoimages\n",
        "from fathomnet.models import AImageDTO, ABoundingBoxDTO, GeoImageConstraints, GeoImageConstraintsCount\n",
        "\n",
        "import os\n",
        "import ssl\n",
        "import requests\n",
        "import time\n",
        "import random\n",
        "from urllib.request import urlretrieve"
      ],
      "metadata": {
        "id": "mcEfoa-0nGsa"
      },
      "execution_count": null,
      "outputs": []
    },
    {
      "cell_type": "code",
      "source": [
        "# Authentication key is different per user, can find specific ones \n",
        "# on the fathomnet website under account > API key\n",
        "xapikey.auth('piACmngefKuKNJUDBk1VXRaHqKdaXD')\n",
        "\n",
        "ssl._create_default_https_context = ssl._create_unverified_context\n",
        "\n",
        "concepts = [\"Chiroteuthis calyx\", \"Dosidicus gigas\", \"Gonatus onyx\", \"Sebastes\", \"Sebastes diploproa\", \"Sebastes melanostomus\", \"Sebastolobus\"]\n",
        "\n",
        "# BackgorundBackground images for domains pre_2012 and post_2012. \n",
        "data_dir1 = \"pre_2012\"\n",
        "data_dir2 = \"post_2012\" \n",
        "os.makedirs(data_dir1, exist_ok = True)\n",
        "os.makedirs(data_dir2, exist_ok = True)\n",
        "\n",
        "# Using GeoImageConstraint dataclass create image domains based on date split\n",
        "constraint_pre2012 = GeoImageConstraints(taxaProviderName='mbari', endTimestamp=\"2011-12-31T23:59:59.999Z\")\n",
        "constraint_post2012 = GeoImageConstraints(taxaProviderName='mbari', startTimestamp=\"2012-01-01T12:00:00.000Z\")\n",
        "IMAGESPRE = images.find(constraint_pre2012)\n",
        "IMAGESPOST = images.find(constraint_post2012)\n",
        "\n",
        "#create random sample of 250 (approx. 10% of individual domain sizes)\n",
        "sample_size = 250 #value can be adjusted to match the size of your training/testing dataset\n",
        "RANDOMPRE = random.sample(IMAGESPRE, sample_size)\n",
        "RANDOMPOST = random.sample(IMAGESPOST, sample_size)"
      ],
      "metadata": {
        "id": "u9a8xi3rlGqB"
      },
      "execution_count": null,
      "outputs": []
    },
    {
      "cell_type": "code",
      "source": [
        "def checkAndClearConcepts(SAMPLEIMGS, ALLIMGS):\n",
        "    for img in SAMPLEIMGS:\n",
        "        if isinstance(img,AImageDTO):\n",
        "            bb = img.boundingBoxes\n",
        "            if bb is not None:\n",
        "                for item in bb:\n",
        "                    if concepts.count(item.concept) > 0:\n",
        "                        SAMPLEIMGS.remove(img)\n",
        "                        SAMPLEIMGS.append(random.sample(ALLIMGS, 1))\n",
        "                        break\n",
        "        if isinstance(img, list):\n",
        "            for img_record in img: \n",
        "                bb = img_record.boundingBoxes\n",
        "                if bb is not None:\n",
        "                    for item in bb:\n",
        "                        if concepts.count(item.concept) > 0:\n",
        "                            SAMPLEIMGS.remove(img)\n",
        "                            SAMPLEIMGS.append(random.sample(ALLIMGS, 1))\n",
        "                            break\n",
        "                    else:\n",
        "                        continue\n",
        "                    break\n",
        "\n",
        "def downloadImg(img_record, direc):\n",
        "    url = img_record.url \n",
        "    extension = os.path.splitext(url)[-1]\n",
        "    img_filename = os.path.join(direc, img_record.uuid + extension)\n",
        "    urlretrieve(url, img_filename)\n",
        "    return img_record.uuid + extension\n",
        "\n",
        "# Check if sample contains any images of the classes in question, if so remove and replace\n",
        "checkAndClearConcepts(RANDOMPRE, IMAGESPRE)\n",
        "checkAndClearConcepts(RANDOMPOST, IMAGESPOST)\n",
        "\n",
        "# Download images \n",
        "for img in RANDOMPRE:\n",
        "    if isinstance(img,AImageDTO):\n",
        "        downloadImg(img, data_dir1)\n",
        "    if isinstance(img,list):\n",
        "        for img_record in img: \n",
        "            downloadImg(img_record, data_dir1)\n",
        "    \n",
        "for img in RANDOMPOST:\n",
        "    if isinstance(img,AImageDTO):\n",
        "        downloadImg(img, data_dir2)\n",
        "    if isinstance(img,list):\n",
        "        for img_record in img: \n",
        "            downloadImg(img_record, data_dir2)"
      ],
      "metadata": {
        "id": "KCxGGnfgnUOi"
      },
      "execution_count": null,
      "outputs": []
    }
  ]
}